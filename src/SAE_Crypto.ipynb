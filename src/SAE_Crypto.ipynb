{
 "cells": [
  {
   "cell_type": "markdown",
   "metadata": {},
   "source": [
    "# SAE Crypto"
   ]
  },
  {
   "cell_type": "markdown",
   "metadata": {},
   "source": [
    "Dans ce fichier, nous allons faire appelle à toutes les fonctions permettant de répondre au questions qui nous sont posé. Pour toutes les questions portant sur les performances, il faudra executer le fichier graphe.py. "
   ]
  },
  {
   "cell_type": "markdown",
   "metadata": {},
   "source": [
    "## Partie 1\n",
    "\n",
    "### Premier message"
   ]
  },
  {
   "cell_type": "code",
   "execution_count": 1,
   "metadata": {},
   "outputs": [
    {
     "name": "stdout",
     "output_type": "stream",
     "text": [
      "PANGRAMME\n"
     ]
    }
   ],
   "source": [
    "import partie1_crypto as dec\n",
    "import SDES as sdes\n",
    "import AES as aes\n",
    "import image as img\n",
    "import reseau as res\n",
    "\n",
    "print(dec.decrypte_message1(\"../txt/indice1_chiffre.txt\"))"
   ]
  },
  {
   "cell_type": "markdown",
   "metadata": {},
   "source": [
    "### Deuxième message"
   ]
  },
  {
   "cell_type": "code",
   "execution_count": 2,
   "metadata": {},
   "outputs": [
    {
     "data": {
      "text/plain": [
       "'LE VIF ZEPHYR JUBILE SUR LES KUMQUATS DU CLOWN GRACIEUX\\nIL CACHE DANS LA REPETITION LE SECRET DE CES MURMURES MALHEUREUX\\nNE GARDEZ DU PREMIER SOUFFLE QUE LES PREMIERES APPARITIONS\\nET AINSI DEVOILEZ LE MESSAGE CACHE DERRIERE LA SUBSTITUTION'"
      ]
     },
     "execution_count": 2,
     "metadata": {},
     "output_type": "execute_result"
    }
   ],
   "source": [
    "dec.decrypte_message2(\"../txt/indice2_chiffre.txt\")"
   ]
  },
  {
   "cell_type": "markdown",
   "metadata": {},
   "source": [
    "### Troisième message"
   ]
  },
  {
   "cell_type": "code",
   "execution_count": 3,
   "metadata": {},
   "outputs": [
    {
     "data": {
      "text/plain": [
       "'BRAVO, VOUS AVEZ GAGNE! LE CODE A FOURNIR EST: ELIZEBETH'"
      ]
     },
     "execution_count": 3,
     "metadata": {},
     "output_type": "execute_result"
    }
   ],
   "source": [
    "dec.decrypte_message3(\"../txt/indice3_chiffre_correct.txt\")"
   ]
  },
  {
   "cell_type": "markdown",
   "metadata": {},
   "source": [
    "## Partie 2\n",
    "\n",
    "### Partie 2-1\n",
    "\n",
    "Il fallait ici faire une fonction de cryptage brutal et astucieux : "
   ]
  },
  {
   "cell_type": "code",
   "execution_count": 8,
   "metadata": {},
   "outputs": [
    {
     "name": "stdout",
     "output_type": "stream",
     "text": [
      "Cassage brutal (20, 14)\n",
      "Cassage astucieux (20, 14)\n"
     ]
    }
   ],
   "source": [
    "message = sdes.double_cryptage_SDES(\"un message\", 20, 14)\n",
    "\n",
    "print(\"Cassage brutal\", sdes.cassage_brutal_SDES(\"un message\", message))\n",
    "print(\"Cassage astucieux\", sdes.cassage_Astucieux_SDES(\"un message\", message))"
   ]
  },
  {
   "cell_type": "markdown",
   "metadata": {},
   "source": [
    "### Partie 2-2\n",
    "\n",
    "Pour cette partie, il nous devions trouver un message caché dans une image "
   ]
  },
  {
   "cell_type": "code",
   "execution_count": 11,
   "metadata": {},
   "outputs": [
    {
     "name": "stdout",
     "output_type": "stream",
     "text": [
      "1110011101101101001100010011111110010010101110011001000001001100\n"
     ]
    }
   ],
   "source": [
    "print(img.get_message_image(\"../images/rossignol2.bmp\"))"
   ]
  },
  {
   "cell_type": "markdown",
   "metadata": {},
   "source": [
    "### Partie 2-3\n",
    "\n",
    "Enfin, pour cette dernière partie de développement, nous avions à disposition une trame réseau et nous devions en décrypter les messages à l'aide de la clé trouvé dans la partie précedente. "
   ]
  },
  {
   "cell_type": "code",
   "execution_count": null,
   "metadata": {},
   "outputs": [],
   "source": [
    "print (res.decrypte_UDP(\"../traces/trace_sae.cap\"))"
   ]
  }
 ],
 "metadata": {
  "kernelspec": {
   "display_name": "Python 3.8.10 64-bit",
   "language": "python",
   "name": "python3"
  },
  "language_info": {
   "codemirror_mode": {
    "name": "ipython",
    "version": 3
   },
   "file_extension": ".py",
   "mimetype": "text/x-python",
   "name": "python",
   "nbconvert_exporter": "python",
   "pygments_lexer": "ipython3",
   "version": "3.8.10"
  },
  "orig_nbformat": 4,
  "vscode": {
   "interpreter": {
    "hash": "916dbcbb3f70747c44a77c7bcd40155683ae19c65e1c03b4aa3499c5328201f1"
   }
  }
 },
 "nbformat": 4,
 "nbformat_minor": 2
}
